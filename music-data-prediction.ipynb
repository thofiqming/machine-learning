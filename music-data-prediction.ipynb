{
 "cells": [
  {
   "cell_type": "code",
   "execution_count": 17,
   "id": "237a8446",
   "metadata": {},
   "outputs": [
    {
     "data": {
      "text/plain": [
       "array(['jazz'], dtype=object)"
      ]
     },
     "execution_count": 17,
     "metadata": {},
     "output_type": "execute_result"
    }
   ],
   "source": [
    "import pandas as pd\n",
    "from sklearn.tree import DecisionTreeClassifier\n",
    "\n",
    "data = pd.read_csv('musicdata.csv', error_bad_lines=False)\n",
    "input = data.drop(columns=['music'])\n",
    "output = data['music']\n",
    "\n",
    "model = DecisionTreeClassifier()\n",
    "model.fit(input, output)\n",
    "\n",
    "result = model.predict([[25,1]])\n",
    "\n"
   ]
  },
  {
   "cell_type": "code",
   "execution_count": 21,
   "id": "ecc3b7ec",
   "metadata": {},
   "outputs": [
    {
     "data": {
      "text/plain": [
       "1.0"
      ]
     },
     "execution_count": 21,
     "metadata": {},
     "output_type": "execute_result"
    }
   ],
   "source": [
    "import pandas as pd\n",
    "from sklearn.tree import DecisionTreeClassifier\n",
    "from sklearn.model_selection import train_test_split\n",
    "from sklearn.metrics import accuracy_score\n",
    "\n",
    "data = pd.read_csv('musicdata.csv', error_bad_lines=False)\n",
    "input = data.drop(columns=['music'])\n",
    "output = data['music']\n",
    "\n",
    "input_train, input_test, output_train, output_test = train_test_split(input, output, test_size=0.2)\n",
    "model.fit(input_train, output_train)\n",
    "\n",
    "prediction = model.predict(input_test)\n",
    "\n",
    "accuracy_score(output_test, prediction)\n"
   ]
  },
  {
   "cell_type": "code",
   "execution_count": null,
   "id": "db3a1b14",
   "metadata": {},
   "outputs": [],
   "source": []
  }
 ],
 "metadata": {
  "kernelspec": {
   "display_name": "Python 3",
   "language": "python",
   "name": "python3"
  },
  "language_info": {
   "codemirror_mode": {
    "name": "ipython",
    "version": 3
   },
   "file_extension": ".py",
   "mimetype": "text/x-python",
   "name": "python",
   "nbconvert_exporter": "python",
   "pygments_lexer": "ipython3",
   "version": "3.8.8"
  }
 },
 "nbformat": 4,
 "nbformat_minor": 5
}