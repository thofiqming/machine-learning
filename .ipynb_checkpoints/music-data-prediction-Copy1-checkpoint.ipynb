{
 "cells": [
  {
   "cell_type": "code",
   "execution_count": 17,
   "id": "237a8446",
   "metadata": {},
   "outputs": [
    {
     "data": {
      "text/plain": [
       "array(['jazz'], dtype=object)"
      ]
     },
     "execution_count": 17,
     "metadata": {},
     "output_type": "execute_result"
    }
   ],
   "source": [
    "import pandas as pd\n",
    "from sklearn.tree import DecisionTreeClassifier\n",
    "\n",
    "data = pd.read_csv('musicdata.csv', error_bad_lines=False)\n",
    "input = data.drop(columns=['music'])\n",
    "output = data['music']\n",
    "\n",
    "model = DecisionTreeClassifier()\n",
    "model.fit(input, output)\n",
    "\n",
    "result = model.predict([[25,1]])\n",
    "\n"
   ]
  },
  {
   "cell_type": "code",
   "execution_count": null,
   "id": "e2f00a9a",
   "metadata": {},
   "outputs": [],
   "source": []
  }
 ],
 "metadata": {
  "kernelspec": {
   "display_name": "Python 3",
   "language": "python",
   "name": "python3"
  },
  "language_info": {
   "codemirror_mode": {
    "name": "ipython",
    "version": 3
   },
   "file_extension": ".py",
   "mimetype": "text/x-python",
   "name": "python",
   "nbconvert_exporter": "python",
   "pygments_lexer": "ipython3",
   "version": "3.8.8"
  }
 },
 "nbformat": 4,
 "nbformat_minor": 5
}
